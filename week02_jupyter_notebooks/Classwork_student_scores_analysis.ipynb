{
 "cells": [
  {
   "cell_type": "markdown",
   "id": "b92ffe39-0a82-4b32-abd4-47a742d07c13",
   "metadata": {},
   "source": [
    "# 1. Collection: mport libraries and load data\n",
    "## import libraries\n",
    "The following libraries will be used to complete the analysis:\n",
    "+ Pandas: used to load and handle data\n",
    "+ Matplotlib: create visualization\n",
    "+ Seaborn: create visualitazion\n",
    "+ Plotly: create visualizations.\n"
   ]
  },
  {
   "cell_type": "code",
   "execution_count": 1,
   "id": "ed3d1d56-85c9-4279-a71e-908ec7d8732b",
   "metadata": {},
   "outputs": [],
   "source": [
    "import pandas as pd\n",
    "import matplotlib.pyplot as plt\n",
    "import seaborn as sns\n",
    "import plotly.express as px"
   ]
  },
  {
   "cell_type": "markdown",
   "id": "facc1b3c-0008-4318-9999-493f59cd4bfb",
   "metadata": {},
   "source": [
    "## Load dataset\n",
    "To handle the data from the csv file, we load into a **Pandas Dataframe**"
   ]
  },
  {
   "cell_type": "code",
   "execution_count": 4,
   "id": "4c78f1a3-f2c7-4cae-ac35-079e26cc8a39",
   "metadata": {},
   "outputs": [],
   "source": [
    "student_data = pd.read_csv(\"student_scores_with_gender.csv\")"
   ]
  },
  {
   "cell_type": "markdown",
   "id": "624bfdfe-751c-4a7b-9f58-7eabfaa5958d",
   "metadata": {},
   "source": [
    "# 2. Explotaration: Understand the Data\n",
    "## View and understand the Dataset\n",
    "We are going to use the following Pandas Methods:\n",
    "1. head(): To view the first 5 rows.\n",
    "2. tail(): To view the last 5 rows.\n",
    "3. info(): to get a summary of the ciontect of the dataset."
   ]
  },
  {
   "cell_type": "code",
   "execution_count": 6,
   "id": "da5965af-c92b-4e8a-9c85-8934223e358b",
   "metadata": {},
   "outputs": [
    {
     "data": {
      "text/html": [
       "<div>\n",
       "<style scoped>\n",
       "    .dataframe tbody tr th:only-of-type {\n",
       "        vertical-align: middle;\n",
       "    }\n",
       "\n",
       "    .dataframe tbody tr th {\n",
       "        vertical-align: top;\n",
       "    }\n",
       "\n",
       "    .dataframe thead th {\n",
       "        text-align: right;\n",
       "    }\n",
       "</style>\n",
       "<table border=\"1\" class=\"dataframe\">\n",
       "  <thead>\n",
       "    <tr style=\"text-align: right;\">\n",
       "      <th></th>\n",
       "      <th>StudentID</th>\n",
       "      <th>StudentName</th>\n",
       "      <th>Gender</th>\n",
       "      <th>StudyHours</th>\n",
       "      <th>TestScore</th>\n",
       "    </tr>\n",
       "  </thead>\n",
       "  <tbody>\n",
       "    <tr>\n",
       "      <th>0</th>\n",
       "      <td>1</td>\n",
       "      <td>John Doe</td>\n",
       "      <td>Male</td>\n",
       "      <td>10</td>\n",
       "      <td>90</td>\n",
       "    </tr>\n",
       "    <tr>\n",
       "      <th>1</th>\n",
       "      <td>2</td>\n",
       "      <td>Jane Doe</td>\n",
       "      <td>Female</td>\n",
       "      <td>8</td>\n",
       "      <td>85</td>\n",
       "    </tr>\n",
       "    <tr>\n",
       "      <th>2</th>\n",
       "      <td>3</td>\n",
       "      <td>Peter Parker</td>\n",
       "      <td>Male</td>\n",
       "      <td>12</td>\n",
       "      <td>95</td>\n",
       "    </tr>\n",
       "    <tr>\n",
       "      <th>3</th>\n",
       "      <td>4</td>\n",
       "      <td>Mary Jane Watson</td>\n",
       "      <td>Female</td>\n",
       "      <td>9</td>\n",
       "      <td>88</td>\n",
       "    </tr>\n",
       "    <tr>\n",
       "      <th>4</th>\n",
       "      <td>5</td>\n",
       "      <td>Bruce Wayne</td>\n",
       "      <td>Male</td>\n",
       "      <td>15</td>\n",
       "      <td>98</td>\n",
       "    </tr>\n",
       "  </tbody>\n",
       "</table>\n",
       "</div>"
      ],
      "text/plain": [
       "   StudentID       StudentName  Gender  StudyHours  TestScore\n",
       "0          1          John Doe    Male          10         90\n",
       "1          2          Jane Doe  Female           8         85\n",
       "2          3      Peter Parker    Male          12         95\n",
       "3          4  Mary Jane Watson  Female           9         88\n",
       "4          5       Bruce Wayne    Male          15         98"
      ]
     },
     "execution_count": 6,
     "metadata": {},
     "output_type": "execute_result"
    }
   ],
   "source": [
    "student_data.head()"
   ]
  },
  {
   "cell_type": "code",
   "execution_count": 7,
   "id": "1ff9c79a-1b8a-4059-8428-568aa017228c",
   "metadata": {},
   "outputs": [
    {
     "data": {
      "text/html": [
       "<div>\n",
       "<style scoped>\n",
       "    .dataframe tbody tr th:only-of-type {\n",
       "        vertical-align: middle;\n",
       "    }\n",
       "\n",
       "    .dataframe tbody tr th {\n",
       "        vertical-align: top;\n",
       "    }\n",
       "\n",
       "    .dataframe thead th {\n",
       "        text-align: right;\n",
       "    }\n",
       "</style>\n",
       "<table border=\"1\" class=\"dataframe\">\n",
       "  <thead>\n",
       "    <tr style=\"text-align: right;\">\n",
       "      <th></th>\n",
       "      <th>StudentID</th>\n",
       "      <th>StudentName</th>\n",
       "      <th>Gender</th>\n",
       "      <th>StudyHours</th>\n",
       "      <th>TestScore</th>\n",
       "    </tr>\n",
       "  </thead>\n",
       "  <tbody>\n",
       "    <tr>\n",
       "      <th>45</th>\n",
       "      <td>46</td>\n",
       "      <td>Alexa Bliss</td>\n",
       "      <td>Female</td>\n",
       "      <td>11</td>\n",
       "      <td>92</td>\n",
       "    </tr>\n",
       "    <tr>\n",
       "      <th>46</th>\n",
       "      <td>47</td>\n",
       "      <td>Ronda Rousey</td>\n",
       "      <td>Female</td>\n",
       "      <td>14</td>\n",
       "      <td>97</td>\n",
       "    </tr>\n",
       "    <tr>\n",
       "      <th>47</th>\n",
       "      <td>48</td>\n",
       "      <td>Cody Rhodes</td>\n",
       "      <td>Male</td>\n",
       "      <td>10</td>\n",
       "      <td>90</td>\n",
       "    </tr>\n",
       "    <tr>\n",
       "      <th>48</th>\n",
       "      <td>49</td>\n",
       "      <td>Kenny Omega</td>\n",
       "      <td>Male</td>\n",
       "      <td>13</td>\n",
       "      <td>96</td>\n",
       "    </tr>\n",
       "    <tr>\n",
       "      <th>49</th>\n",
       "      <td>50</td>\n",
       "      <td>Hangman Page</td>\n",
       "      <td>Male</td>\n",
       "      <td>11</td>\n",
       "      <td>91</td>\n",
       "    </tr>\n",
       "  </tbody>\n",
       "</table>\n",
       "</div>"
      ],
      "text/plain": [
       "    StudentID   StudentName  Gender  StudyHours  TestScore\n",
       "45         46   Alexa Bliss  Female          11         92\n",
       "46         47  Ronda Rousey  Female          14         97\n",
       "47         48   Cody Rhodes    Male          10         90\n",
       "48         49   Kenny Omega    Male          13         96\n",
       "49         50  Hangman Page    Male          11         91"
      ]
     },
     "execution_count": 7,
     "metadata": {},
     "output_type": "execute_result"
    }
   ],
   "source": [
    "student_data.tail()"
   ]
  },
  {
   "cell_type": "code",
   "execution_count": 8,
   "id": "24662b22-5dca-4363-9937-35c21268aeca",
   "metadata": {},
   "outputs": [
    {
     "name": "stdout",
     "output_type": "stream",
     "text": [
      "<class 'pandas.core.frame.DataFrame'>\n",
      "RangeIndex: 50 entries, 0 to 49\n",
      "Data columns (total 5 columns):\n",
      " #   Column       Non-Null Count  Dtype \n",
      "---  ------       --------------  ----- \n",
      " 0   StudentID    50 non-null     int64 \n",
      " 1   StudentName  50 non-null     object\n",
      " 2   Gender       50 non-null     object\n",
      " 3   StudyHours   50 non-null     int64 \n",
      " 4   TestScore    50 non-null     int64 \n",
      "dtypes: int64(3), object(2)\n",
      "memory usage: 2.1+ KB\n"
     ]
    }
   ],
   "source": [
    "student_data.info()"
   ]
  },
  {
   "cell_type": "markdown",
   "id": "35913f38-8e65-447d-aaaf-420b7e66235b",
   "metadata": {},
   "source": [
    "## Obtain statistical Measures\n",
    "We are using the following methods to  make statistical analysis:\n",
    "1. describe(): Returns the main statiscal measures.\n",
    "2. describe() for a specific column: The same, but for a specific column (categorical column.\n",
    "3. mode(): Return the mode of the column."
   ]
  },
  {
   "cell_type": "code",
   "execution_count": 9,
   "id": "ba33d7e7-a0b3-468a-8982-610fc420bf39",
   "metadata": {},
   "outputs": [
    {
     "data": {
      "text/html": [
       "<div>\n",
       "<style scoped>\n",
       "    .dataframe tbody tr th:only-of-type {\n",
       "        vertical-align: middle;\n",
       "    }\n",
       "\n",
       "    .dataframe tbody tr th {\n",
       "        vertical-align: top;\n",
       "    }\n",
       "\n",
       "    .dataframe thead th {\n",
       "        text-align: right;\n",
       "    }\n",
       "</style>\n",
       "<table border=\"1\" class=\"dataframe\">\n",
       "  <thead>\n",
       "    <tr style=\"text-align: right;\">\n",
       "      <th></th>\n",
       "      <th>StudentID</th>\n",
       "      <th>StudyHours</th>\n",
       "      <th>TestScore</th>\n",
       "    </tr>\n",
       "  </thead>\n",
       "  <tbody>\n",
       "    <tr>\n",
       "      <th>count</th>\n",
       "      <td>50.00000</td>\n",
       "      <td>50.000000</td>\n",
       "      <td>50.000000</td>\n",
       "    </tr>\n",
       "    <tr>\n",
       "      <th>mean</th>\n",
       "      <td>25.50000</td>\n",
       "      <td>11.760000</td>\n",
       "      <td>93.140000</td>\n",
       "    </tr>\n",
       "    <tr>\n",
       "      <th>std</th>\n",
       "      <td>14.57738</td>\n",
       "      <td>1.974945</td>\n",
       "      <td>3.585743</td>\n",
       "    </tr>\n",
       "    <tr>\n",
       "      <th>min</th>\n",
       "      <td>1.00000</td>\n",
       "      <td>8.000000</td>\n",
       "      <td>85.000000</td>\n",
       "    </tr>\n",
       "    <tr>\n",
       "      <th>25%</th>\n",
       "      <td>13.25000</td>\n",
       "      <td>10.000000</td>\n",
       "      <td>90.000000</td>\n",
       "    </tr>\n",
       "    <tr>\n",
       "      <th>50%</th>\n",
       "      <td>25.50000</td>\n",
       "      <td>11.000000</td>\n",
       "      <td>92.000000</td>\n",
       "    </tr>\n",
       "    <tr>\n",
       "      <th>75%</th>\n",
       "      <td>37.75000</td>\n",
       "      <td>13.000000</td>\n",
       "      <td>96.000000</td>\n",
       "    </tr>\n",
       "    <tr>\n",
       "      <th>max</th>\n",
       "      <td>50.00000</td>\n",
       "      <td>15.000000</td>\n",
       "      <td>98.000000</td>\n",
       "    </tr>\n",
       "  </tbody>\n",
       "</table>\n",
       "</div>"
      ],
      "text/plain": [
       "       StudentID  StudyHours  TestScore\n",
       "count   50.00000   50.000000  50.000000\n",
       "mean    25.50000   11.760000  93.140000\n",
       "std     14.57738    1.974945   3.585743\n",
       "min      1.00000    8.000000  85.000000\n",
       "25%     13.25000   10.000000  90.000000\n",
       "50%     25.50000   11.000000  92.000000\n",
       "75%     37.75000   13.000000  96.000000\n",
       "max     50.00000   15.000000  98.000000"
      ]
     },
     "execution_count": 9,
     "metadata": {},
     "output_type": "execute_result"
    }
   ],
   "source": [
    "student_data.describe()"
   ]
  },
  {
   "cell_type": "code",
   "execution_count": 11,
   "id": "21b3d718-9e54-43cb-a5be-4aa5572e9d12",
   "metadata": {},
   "outputs": [
    {
     "data": {
      "text/plain": [
       "count       50\n",
       "unique       2\n",
       "top       Male\n",
       "freq        31\n",
       "Name: Gender, dtype: object"
      ]
     },
     "execution_count": 11,
     "metadata": {},
     "output_type": "execute_result"
    }
   ],
   "source": [
    "student_data[\"Gender\"].describe()"
   ]
  },
  {
   "cell_type": "code",
   "execution_count": 12,
   "id": "f15e789d-6bac-4246-96bb-70c40e9220f8",
   "metadata": {},
   "outputs": [
    {
     "data": {
      "text/plain": [
       "0    90\n",
       "Name: TestScore, dtype: int64"
      ]
     },
     "execution_count": 12,
     "metadata": {},
     "output_type": "execute_result"
    }
   ],
   "source": [
    "student_data.TestScore.mode()"
   ]
  },
  {
   "cell_type": "code",
   "execution_count": 13,
   "id": "4596264e-1740-4270-b13e-4b5f989a8046",
   "metadata": {},
   "outputs": [
    {
     "data": {
      "text/plain": [
       "1     85\n",
       "3     88\n",
       "5     92\n",
       "7     90\n",
       "9     91\n",
       "11    88\n",
       "12    98\n",
       "17    91\n",
       "20    98\n",
       "24    96\n",
       "25    91\n",
       "26    95\n",
       "29    92\n",
       "32    96\n",
       "41    91\n",
       "43    88\n",
       "44    98\n",
       "45    92\n",
       "46    97\n",
       "Name: TestScore, dtype: int64"
      ]
     },
     "execution_count": 13,
     "metadata": {},
     "output_type": "execute_result"
    }
   ],
   "source": [
    "male_data = student_data[student_data[\"Gender\"] == \"Male\"][\"TestScore\"]\n",
    "female_data = student_data[student_data[\"Gender\"] == \"Female\"][\"TestScore\"]\n",
    "female_data"
   ]
  },
  {
   "cell_type": "markdown",
   "id": "66cdd684-f729-4e08-b8af-028ced2581a9",
   "metadata": {},
   "source": [
    "# 3. Visualization\n"
   ]
  },
  {
   "cell_type": "code",
   "execution_count": 21,
   "id": "b09180a3-4c51-4cf3-a355-669f85ef2128",
   "metadata": {},
   "outputs": [
    {
     "name": "stderr",
     "output_type": "stream",
     "text": [
      "/Users/kiki/anaconda3/lib/python3.11/site-packages/seaborn/_oldcore.py:1119: FutureWarning: use_inf_as_na option is deprecated and will be removed in a future version. Convert inf values to NaN before operating instead.\n",
      "  with pd.option_context('mode.use_inf_as_na', True):\n",
      "/Users/kiki/anaconda3/lib/python3.11/site-packages/seaborn/_oldcore.py:1119: FutureWarning: use_inf_as_na option is deprecated and will be removed in a future version. Convert inf values to NaN before operating instead.\n",
      "  with pd.option_context('mode.use_inf_as_na', True):\n"
     ]
    },
    {
     "data": {
      "image/png": "[encoded data removed]",
      "text/plain": [
       "<Figure size 800x1600 with 1 Axes>"
      ]
     },
     "metadata": {},
     "output_type": "display_data"
    }
   ],
   "source": [
    "fig, ax = plt.subplots(figsize = (8,16))\n",
    "sns.boxplot (x=\"Gender\", y=\"TestScore\", data=student_data, showfliers=True, ax=ax, palette={'Male': 'blue', 'Female': 'red'})\n",
    "sns.stripplot(x=\"Gender\", y=\"TestScore\", data=student_data, color=\"yellow\", size=5, jitter=True)\n",
    "\n",
    "plt.title(\"Box Plot of Test Scores by Gender\") \n",
    "plt. xlabel (\"Gender\")\n",
    "plt. ylabel(\"Test Score\")\n",
    "plt.show()"
   ]
  },
  {
   "cell_type": "code",
   "execution_count": null,
   "id": "69e666b9-1fbb-47c6-85e1-311440e8964b",
   "metadata": {},
   "outputs": [],
   "source": []
  },
  {
   "cell_type": "code",
   "execution_count": null,
   "id": "5a7b44c3-1f64-4945-b88e-e03f6bbb1ed3",
   "metadata": {},
   "outputs": [],
   "source": []
  }
 ],
 "metadata": {
  "kernelspec": {
   "display_name": "Python 3 (ipykernel)",
   "language": "python",
   "name": "python3"
  },
  "language_info": {
   "codemirror_mode": {
    "name": "ipython",
    "version": 3
   },
   "file_extension": ".py",
   "mimetype": "text/x-python",
   "name": "python",
   "nbconvert_exporter": "python",
   "pygments_lexer": "ipython3",
   "version": "3.11.5"
  }
 },
 "nbformat": 4,
 "nbformat_minor": 5
}
