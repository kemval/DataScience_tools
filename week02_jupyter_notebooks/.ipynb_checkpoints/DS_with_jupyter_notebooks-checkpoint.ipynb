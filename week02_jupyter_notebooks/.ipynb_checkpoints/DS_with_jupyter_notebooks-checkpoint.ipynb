{
 "cells": [
  {
   "cell_type": "markdown",
   "id": "1fbf0593-90f3-41aa-a2e2-1966b074969c",
   "metadata": {},
   "source": [
    "# Startups Data Analysis Project\n",
    "\n",
    "This project involves analyzing a dataset named `50_Startups.csv`, which contains data on 50 startup companies. This data includes details on their R&D Spend, Administration Spend, Marketing Spend, State, and Profit. The aim of the analysis is to understand how these different factors contribute to the startups' profits and to identify any interesting patterns or insights that can be derived from the data.\n"
   ]
  },
  {
   "cell_type": "markdown",
   "id": "fb09e48c-652e-496d-96d1-6e353fdd88eb",
   "metadata": {},
   "source": [
    "## Loading the Data\n",
    "\n",
    "To analyze the startups' dataset, we first need to load it into a format that's easy to work with. We'll use Pandas, a powerful data manipulation library in Python, for this purpose.\n"
   ]
  },
  {
   "cell_type": "code",
   "execution_count": null,
   "id": "fd4650b3-5e48-41c6-b301-ebf1b504b4b2",
   "metadata": {},
   "outputs": [],
   "source": [
    "import pandas as pd\n",
    "\n",
    "# Load the data\n",
    "df = pd.read_csv('50_Startups.csv')\n",
    "\n",
    "# Display the first few rows of the dataframe\n",
    "df.head()\n"
   ]
  }
 ],
 "metadata": {
  "kernelspec": {
   "display_name": "Python 3 (ipykernel)",
   "language": "python",
   "name": "python3"
  },
  "language_info": {
   "codemirror_mode": {
    "name": "ipython",
    "version": 3
   },
   "file_extension": ".py",
   "mimetype": "text/x-python",
   "name": "python",
   "nbconvert_exporter": "python",
   "pygments_lexer": "ipython3",
   "version": "3.11.5"
  }
 },
 "nbformat": 4,
 "nbformat_minor": 5
}
