{
 "cells": [
  {
   "cell_type": "markdown",
   "id": "1354306c-2cfe-4d1a-88b3-625f9bbb1304",
   "metadata": {},
   "source": [
    "# Google Play Store Dataset Analysis\n",
    "\n",
    "In this project, we will conduct an analysis of the Google Play Store dataset using the Polars library for data manipulation. Our analysis will include data loading, exploration, cleaning, and in-depth analysis focusing on app ratings and content ratings.\n"
   ]
  },
  {
   "cell_type": "code",
   "execution_count": 2,
   "id": "55ce039b-e7e9-4c56-9216-0d2876f41475",
   "metadata": {},
   "outputs": [
    {
     "name": "stdout",
     "output_type": "stream",
     "text": [
      "shape: (5, 13)\n",
      "┌────────────┬────────────┬────────┬─────────┬───┬────────────┬────────────┬───────────┬───────────┐\n",
      "│ App        ┆ Category   ┆ Rating ┆ Reviews ┆ … ┆ Genres     ┆ Last       ┆ Current   ┆ Android   │\n",
      "│ ---        ┆ ---        ┆ ---    ┆ ---     ┆   ┆ ---        ┆ Updated    ┆ Ver       ┆ Ver       │\n",
      "│ str        ┆ str        ┆ f64    ┆ i64     ┆   ┆ str        ┆ ---        ┆ ---       ┆ ---       │\n",
      "│            ┆            ┆        ┆         ┆   ┆            ┆ str        ┆ str       ┆ str       │\n",
      "╞════════════╪════════════╪════════╪═════════╪═══╪════════════╪════════════╪═══════════╪═══════════╡\n",
      "│ Photo      ┆ ART_AND_DE ┆ 4.1    ┆ 159     ┆ … ┆ Art &      ┆ January 7, ┆ 1.0.0     ┆ 4.0.3 and │\n",
      "│ Editor &   ┆ SIGN       ┆        ┆         ┆   ┆ Design     ┆ 2018       ┆           ┆ up        │\n",
      "│ Candy      ┆            ┆        ┆         ┆   ┆            ┆            ┆           ┆           │\n",
      "│ Camera &   ┆            ┆        ┆         ┆   ┆            ┆            ┆           ┆           │\n",
      "│ Gr…        ┆            ┆        ┆         ┆   ┆            ┆            ┆           ┆           │\n",
      "│ Coloring   ┆ ART_AND_DE ┆ 3.9    ┆ 967     ┆ … ┆ Art & Desi ┆ January    ┆ 2.0.0     ┆ 4.0.3 and │\n",
      "│ book moana ┆ SIGN       ┆        ┆         ┆   ┆ gn;Pretend ┆ 15, 2018   ┆           ┆ up        │\n",
      "│            ┆            ┆        ┆         ┆   ┆ Play       ┆            ┆           ┆           │\n",
      "│ U Launcher ┆ ART_AND_DE ┆ 4.7    ┆ 87510   ┆ … ┆ Art &      ┆ August 1,  ┆ 1.2.4     ┆ 4.0.3 and │\n",
      "│ Lite –     ┆ SIGN       ┆        ┆         ┆   ┆ Design     ┆ 2018       ┆           ┆ up        │\n",
      "│ FREE Live  ┆            ┆        ┆         ┆   ┆            ┆            ┆           ┆           │\n",
      "│ Cool…      ┆            ┆        ┆         ┆   ┆            ┆            ┆           ┆           │\n",
      "│ Sketch -   ┆ ART_AND_DE ┆ 4.5    ┆ 215644  ┆ … ┆ Art &      ┆ June 8,    ┆ Varies    ┆ 4.2 and   │\n",
      "│ Draw &     ┆ SIGN       ┆        ┆         ┆   ┆ Design     ┆ 2018       ┆ with      ┆ up        │\n",
      "│ Paint      ┆            ┆        ┆         ┆   ┆            ┆            ┆ device    ┆           │\n",
      "│ Pixel Draw ┆ ART_AND_DE ┆ 4.3    ┆ 967     ┆ … ┆ Art & Desi ┆ June 20,   ┆ 1.1       ┆ 4.4 and   │\n",
      "│ - Number   ┆ SIGN       ┆        ┆         ┆   ┆ gn;Creativ ┆ 2018       ┆           ┆ up        │\n",
      "│ Art        ┆            ┆        ┆         ┆   ┆ ity        ┆            ┆           ┆           │\n",
      "│ Coloring…  ┆            ┆        ┆         ┆   ┆            ┆            ┆           ┆           │\n",
      "└────────────┴────────────┴────────┴─────────┴───┴────────────┴────────────┴───────────┴───────────┘\n"
     ]
    }
   ],
   "source": [
    "import polars as pl\n",
    "df = pl.read_csv('googleplaystore.csv')\n",
    "print(df.head())\n"
   ]
  },
  {
   "cell_type": "code",
   "execution_count": 12,
   "id": "3b93efb0-b7a6-4d7a-83e7-09f02d210e6a",
   "metadata": {},
   "outputs": [
    {
     "ename": "AttributeError",
     "evalue": "'Expr' object has no attribute 'fill_none'",
     "output_type": "error",
     "traceback": [
      "\u001b[0;31m---------------------------------------------------------------------------\u001b[0m",
      "\u001b[0;31mAttributeError\u001b[0m                            Traceback (most recent call last)",
      "Cell \u001b[0;32mIn[12], line 2\u001b[0m\n\u001b[1;32m      1\u001b[0m mean_rating \u001b[38;5;241m=\u001b[39m df\u001b[38;5;241m.\u001b[39mselect(pl\u001b[38;5;241m.\u001b[39mcol(\u001b[38;5;124m\"\u001b[39m\u001b[38;5;124mRating\u001b[39m\u001b[38;5;124m\"\u001b[39m)\u001b[38;5;241m.\u001b[39mmean())\u001b[38;5;241m.\u001b[39mto_numpy()[\u001b[38;5;241m0\u001b[39m, \u001b[38;5;241m0\u001b[39m]\n\u001b[0;32m----> 2\u001b[0m df \u001b[38;5;241m=\u001b[39m df\u001b[38;5;241m.\u001b[39mwith_columns(pl\u001b[38;5;241m.\u001b[39mcol(\u001b[38;5;124m\"\u001b[39m\u001b[38;5;124mRating\u001b[39m\u001b[38;5;124m\"\u001b[39m)\u001b[38;5;241m.\u001b[39mfill_none(mean_rating))\n",
      "\u001b[0;31mAttributeError\u001b[0m: 'Expr' object has no attribute 'fill_none'"
     ]
    }
   ],
   "source": [
    "mean_rating = df.select(pl.col(\"Rating\").mean()).to_numpy()[0, 0]\n",
    "df = df.with_columns(pl.col(\"Rating\").fill_none(mean_rating))"
   ]
  },
  {
   "cell_type": "code",
   "execution_count": null,
   "id": "78733efd-353a-4ad3-b478-8ca3f4405a3c",
   "metadata": {},
   "outputs": [],
   "source": []
  }
 ],
 "metadata": {
  "kernelspec": {
   "display_name": "Python 3 (ipykernel)",
   "language": "python",
   "name": "python3"
  },
  "language_info": {
   "codemirror_mode": {
    "name": "ipython",
    "version": 3
   },
   "file_extension": ".py",
   "mimetype": "text/x-python",
   "name": "python",
   "nbconvert_exporter": "python",
   "pygments_lexer": "ipython3",
   "version": "3.11.8"
  }
 },
 "nbformat": 4,
 "nbformat_minor": 5
}
